{
 "cells": [
  {
   "cell_type": "markdown",
   "id": "49d9d39d",
   "metadata": {},
   "source": [
    "Introduction to Python Programming - Part 1\n",
    "Introduction to Python Programming - Part 2\n",
    "Introduction to Python Programming - Part 3\n",
    "Practice Questions"
   ]
  }
 ],
 "metadata": {
  "kernelspec": {
   "display_name": "Python 3 (ipykernel)",
   "language": "python",
   "name": "python3"
  },
  "language_info": {
   "codemirror_mode": {
    "name": "ipython",
    "version": 3
   },
   "file_extension": ".py",
   "mimetype": "text/x-python",
   "name": "python",
   "nbconvert_exporter": "python",
   "pygments_lexer": "ipython3",
   "version": "3.11.5"
  }
 },
 "nbformat": 4,
 "nbformat_minor": 5
}
